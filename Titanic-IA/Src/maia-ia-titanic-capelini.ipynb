{
 "cells": [
  {
   "cell_type": "code",
   "execution_count": 1,
   "id": "d53e5266",
   "metadata": {
    "_cell_guid": "45e780c3-e966-4e14-8429-58b435913595",
    "_uuid": "7826dc65-f0b9-47a3-aeb6-24191927afdf",
    "collapsed": false,
    "execution": {
     "iopub.execute_input": "2024-04-14T21:44:56.137937Z",
     "iopub.status.busy": "2024-04-14T21:44:56.137274Z",
     "iopub.status.idle": "2024-04-14T21:45:09.602196Z",
     "shell.execute_reply": "2024-04-14T21:45:09.600904Z"
    },
    "jupyter": {
     "outputs_hidden": false
    },
    "papermill": {
     "duration": 13.472498,
     "end_time": "2024-04-14T21:45:09.605148",
     "exception": false,
     "start_time": "2024-04-14T21:44:56.132650",
     "status": "completed"
    },
    "tags": []
   },
   "outputs": [
    {
     "name": "stderr",
     "output_type": "stream",
     "text": [
      "/tmp/ipykernel_18/1513966234.py:10: FutureWarning: A value is trying to be set on a copy of a DataFrame or Series through chained assignment using an inplace method.\n",
      "The behavior will change in pandas 3.0. This inplace method will never work because the intermediate object on which we are setting values always behaves as a copy.\n",
      "\n",
      "For example, when doing 'df[col].method(value, inplace=True)', try using 'df.method({col: value}, inplace=True)' or df[col] = df[col].method(value) instead, to perform the operation inplace on the original object.\n",
      "\n",
      "\n",
      "  data[\"Age\"].fillna(data[\"Age\"].median(), inplace=True)\n",
      "/tmp/ipykernel_18/1513966234.py:11: FutureWarning: A value is trying to be set on a copy of a DataFrame or Series through chained assignment using an inplace method.\n",
      "The behavior will change in pandas 3.0. This inplace method will never work because the intermediate object on which we are setting values always behaves as a copy.\n",
      "\n",
      "For example, when doing 'df[col].method(value, inplace=True)', try using 'df.method({col: value}, inplace=True)' or df[col] = df[col].method(value) instead, to perform the operation inplace on the original object.\n",
      "\n",
      "\n",
      "  data[\"Fare\"].fillna(data[\"Fare\"].median(), inplace=True)\n",
      "/tmp/ipykernel_18/1513966234.py:10: FutureWarning: A value is trying to be set on a copy of a DataFrame or Series through chained assignment using an inplace method.\n",
      "The behavior will change in pandas 3.0. This inplace method will never work because the intermediate object on which we are setting values always behaves as a copy.\n",
      "\n",
      "For example, when doing 'df[col].method(value, inplace=True)', try using 'df.method({col: value}, inplace=True)' or df[col] = df[col].method(value) instead, to perform the operation inplace on the original object.\n",
      "\n",
      "\n",
      "  data[\"Age\"].fillna(data[\"Age\"].median(), inplace=True)\n",
      "/tmp/ipykernel_18/1513966234.py:11: FutureWarning: A value is trying to be set on a copy of a DataFrame or Series through chained assignment using an inplace method.\n",
      "The behavior will change in pandas 3.0. This inplace method will never work because the intermediate object on which we are setting values always behaves as a copy.\n",
      "\n",
      "For example, when doing 'df[col].method(value, inplace=True)', try using 'df.method({col: value}, inplace=True)' or df[col] = df[col].method(value) instead, to perform the operation inplace on the original object.\n",
      "\n",
      "\n",
      "  data[\"Fare\"].fillna(data[\"Fare\"].median(), inplace=True)\n"
     ]
    },
    {
     "name": "stdout",
     "output_type": "stream",
     "text": [
      "Fitting 5 folds for each of 27 candidates, totalling 135 fits\n",
      "Training Accuracy: 0.8890449438202247\n",
      "Validation Accuracy: 0.8156424581005587\n"
     ]
    }
   ],
   "source": [
    "import numpy as np\n",
    "import pandas as pd\n",
    "from sklearn.model_selection import train_test_split, GridSearchCV\n",
    "from sklearn.metrics import accuracy_score\n",
    "from xgboost import XGBClassifier\n",
    "train_data = pd.read_csv(\"/kaggle/input/titanic/train.csv\")\n",
    "test_data = pd.read_csv(\"/kaggle/input/titanic/test.csv\")\n",
    "def preprocess_data(data):\n",
    "    data = pd.get_dummies(data, columns=[\"Sex\", \"Embarked\"])\n",
    "    data[\"Age\"].fillna(data[\"Age\"].median(), inplace=True)\n",
    "    data[\"Fare\"].fillna(data[\"Fare\"].median(), inplace=True)\n",
    "    data.drop([\"PassengerId\", \"Name\", \"Ticket\", \"Cabin\"], axis=1, inplace=True)\n",
    "    return data\n",
    "\n",
    "train_data = preprocess_data(train_data)\n",
    "test_data = preprocess_data(test_data)\n",
    "X_train = train_data.drop(\"Survived\", axis=1)\n",
    "y_train = train_data[\"Survived\"]\n",
    "X_train, X_val, y_train, y_val = train_test_split(X_train, y_train, test_size=0.2, random_state=42)\n",
    "model = XGBClassifier()\n",
    "param_grid = { \"n_estimators\": [50, 100, 200], \"max_depth\": [3, 5, 7], \"learning_rate\": [0.1, 0.01, 0.001]}\n",
    "    \n",
    "grid_search = GridSearchCV(model, param_grid, cv=5, scoring='accuracy', verbose=1)\n",
    "grid_search.fit(X_train, y_train)\n",
    "   \n",
    "best_model = grid_search.best_estimator_\n",
    "y_pred_train = best_model.predict(X_train)\n",
    "train_accuracy = accuracy_score(y_train, y_pred_train)\n",
    "print(\"Training Accuracy:\", train_accuracy)\n",
    "\n",
    "y_pred_val = best_model.predict(X_val)\n",
    "val_accuracy = accuracy_score(y_val, y_pred_val)\n",
    "print(\"Validation Accuracy:\", val_accuracy)\n",
    "\n",
    "test_predictions = best_model.predict(test_data)\n",
    "\n",
    "submission_df = pd.DataFrame({\n",
    "    \"PassengerId\": range(892, 892 + len(test_predictions)),\n",
    "    \"Survived\": test_predictions\n",
    "})\n",
    "\n",
    "submission_df.to_csv(\"submission.csv\", index=False)"
   ]
  }
 ],
 "metadata": {
  "kaggle": {
   "accelerator": "none",
   "dataSources": [
    {
     "datasetId": 4768665,
     "sourceId": 8079726,
     "sourceType": "datasetVersion"
    }
   ],
   "dockerImageVersionId": 30684,
   "isGpuEnabled": false,
   "isInternetEnabled": false,
   "language": "python",
   "sourceType": "notebook"
  },
  "kernelspec": {
   "display_name": "Python 3",
   "language": "python",
   "name": "python3"
  },
  "language_info": {
   "codemirror_mode": {
    "name": "ipython",
    "version": 3
   },
   "file_extension": ".py",
   "mimetype": "text/x-python",
   "name": "python",
   "nbconvert_exporter": "python",
   "pygments_lexer": "ipython3",
   "version": "3.10.13"
  },
  "papermill": {
   "default_parameters": {},
   "duration": 17.277322,
   "end_time": "2024-04-14T21:45:10.231220",
   "environment_variables": {},
   "exception": null,
   "input_path": "__notebook__.ipynb",
   "output_path": "__notebook__.ipynb",
   "parameters": {},
   "start_time": "2024-04-14T21:44:52.953898",
   "version": "2.5.0"
  }
 },
 "nbformat": 4,
 "nbformat_minor": 5
}
